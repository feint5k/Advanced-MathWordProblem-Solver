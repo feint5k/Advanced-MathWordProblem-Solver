{
  "nbformat": 4,
  "nbformat_minor": 0,
  "metadata": {
    "colab": {
      "name": "Initial Data Cleaning.ipynb",
      "provenance": [],
      "collapsed_sections": [],
      "toc_visible": true,
      "machine_shape": "hm"
    },
    "kernelspec": {
      "name": "python3",
      "display_name": "Python 3"
    }
  },
  "cells": [
    {
      "cell_type": "markdown",
      "metadata": {
        "id": "ihfXrF0zE-5H",
        "colab_type": "text"
      },
      "source": [
        "Import Libraries\n",
        "--"
      ]
    },
    {
      "cell_type": "code",
      "metadata": {
        "id": "ivCIhm4zyRyI",
        "colab_type": "code",
        "outputId": "69d1f301-789c-4c09-8059-bb9a72a53c1a",
        "colab": {
          "base_uri": "https://localhost:8080/",
          "height": 35
        }
      },
      "source": [
        "import json, csv\n",
        "import numpy as np\n",
        "import pandas as pd\n",
        "import re\n",
        "import warnings\n",
        "\n",
        "warnings.filterwarnings('ignore')\n",
        "\n",
        "print(\"Librari